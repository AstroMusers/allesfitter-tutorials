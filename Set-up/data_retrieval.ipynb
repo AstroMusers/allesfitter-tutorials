{
 "cells": [
  {
   "cell_type": "markdown",
   "metadata": {},
   "source": [
    "# Data Retrieval\n",
    "---\n",
    "\n",
    "In this notebook, you will learn how to retrieve the data that you would like to create a fit for. You will also learn how to prepare the file for Allesfitter use.  \n",
    "\n",
    "#### Importing\n",
    "The first step is to import the packages that we need in order to acomplish this goal."
   ]
  },
  {
   "cell_type": "code",
   "execution_count": null,
   "metadata": {},
   "outputs": [],
   "source": [
    "import lightkurve as lk\n",
    "import pandas as pd"
   ]
  },
  {
   "cell_type": "markdown",
   "metadata": {},
   "source": [
    "#### Retrieving the Data\n",
    "\n",
    "This tutorial uses lightkurve to retrieve the light curve data for a target*. This data is from the Mikulski Archive for Space Telescopes (MAST). While MAST provides other data products, we only need the light curve (lc) data sets.\n",
    "\n",
    "There are a variety of ways that you can search for a planet such as a TIC ID or the planet's name. For more information, visit the lightkurve documentation. Here I use the TIC ID. For example, if I wanted to create a curve for HD 189733 (TOI 4470.01 and TIC ID 256364928), I would replace TIC# with TIC256364928.\n",
    "\n",
    "Run the below cell for your target to see your options.\n",
    "\n",
    "###### * if you would like to use data from an instrument besides Kepler or TESS, you will need to use a different method."
   ]
  },
  {
   "cell_type": "code",
   "execution_count": null,
   "metadata": {},
   "outputs": [],
   "source": [
    "search_result = lk.search_lightcurve(\"TIC#\")\n",
    "print(search_result)"
   ]
  },
  {
   "cell_type": "markdown",
   "metadata": {},
   "source": [
    "Take a look at your different options. You may notice different missions, sectors, and cadences. Select which data set you would like to use and replace \"0\" in the cell below with the number corresponding with that data set. For my phase curve of HD 189733, I want data from the TESS mission at 120s cadence. As a result, I chose number 1.\n",
    "\n",
    "The other aspect of the cell below that you should modify is the name and directory of the file. This will become your inst.csv file. Change the directory to your own, and replace \"inst\" with the name of the instrument. This should match what you list for INST in the settings.csv file. Make sure to change \"allesfit/inst.csv\" everywhere in this tutorial.\n",
    "\n",
    "Since my data is from TESS, and I would like the file to be in my allesfit subfolder, my path is 'allesfit/TESS.csv'. "
   ]
  },
  {
   "cell_type": "code",
   "execution_count": null,
   "metadata": {},
   "outputs": [],
   "source": [
    "lc = search_result[0].download()\n",
    "lc.to_csv('allesfit/inst.csv')"
   ]
  },
  {
   "cell_type": "markdown",
   "metadata": {},
   "source": [
    "Take a look at the csv file that you created. Currently, it has more columns of data than are needed. To produce fits for light curves or phase curves, only time, flux, and flux_err is needed."
   ]
  },
  {
   "cell_type": "code",
   "execution_count": null,
   "metadata": {},
   "outputs": [],
   "source": [
    "file = pd.read_csv('allesfit/inst.csv')\n",
    "data = file.drop(columns=['timecorr','cadenceno','centroid_col','centroid_row','sap_flux','sap_flux_err','sap_bkg','sap_bkg_err','pdcsap_flux','pdcsap_flux_err','quality','psf_centr1','psf_centr1_err','psf_centr2','psf_centr2_err','mom_centr1','mom_centr1_err','mom_centr2','mom_centr2_err','pos_corr1','pos_corr2'])\n",
    "data.rename(columns = {'time':'#time'}, inplace = True)\n",
    "data.to_csv('allesfit/inst.csv', index=False)"
   ]
  },
  {
   "cell_type": "markdown",
   "metadata": {},
   "source": [
    "#### Formatting the Data\n",
    "\n",
    "Now we have the data that we need, but before we run Allesfitter, a couple of adjustments have to be made."
   ]
  },
  {
   "cell_type": "code",
   "execution_count": null,
   "metadata": {},
   "outputs": [],
   "source": [
    "data = pd.read_csv('allesfit/inst.csv')\n",
    "data"
   ]
  },
  {
   "cell_type": "markdown",
   "metadata": {},
   "source": [
    "Your data may have some flux and/or flux_err values that are missing. These will look like empty cells in your csv file, or will say NaN in the DataFrame above. The next step is to delete the rows with missing information. Write a piece of code that accomplishes this. If you would like to see a possible solution, see the box below."
   ]
  },
  {
   "cell_type": "code",
   "execution_count": null,
   "metadata": {},
   "outputs": [],
   "source": [
    "### Write your code here to delete rows with NaN values. Check the box below for a hint/solution\n",
    "\n"
   ]
  },
  {
   "cell_type": "code",
   "execution_count": null,
   "metadata": {},
   "outputs": [],
   "source": [
    "#There are many different ways that you could have completed this. Here are two of them:\n",
    "\n",
    "#version 1:\n",
    "for index, row in data.iterrows():\n",
    "\n",
    "    for column in row:\n",
    "\n",
    "        if column=='':\n",
    "            data = data.drop(row)\n",
    "\n",
    "\n",
    "#version 2:\n",
    "data.dropna(subset=['#time','flux','flux_err'], inplace=True)\n",
    "\n",
    "#print the data to see if/how it has changed\n",
    "data"
   ]
  },
  {
   "cell_type": "code",
   "execution_count": null,
   "metadata": {},
   "outputs": [],
   "source": [
    "data.to_csv('allesfit/inst.csv', index=False)"
   ]
  },
  {
   "cell_type": "markdown",
   "metadata": {},
   "source": [
    "Next, the flux needs to be normalized. Rather than an absolute flux, this will yield a relative flux. Don't forget to propogate the error."
   ]
  },
  {
   "cell_type": "code",
   "execution_count": null,
   "metadata": {},
   "outputs": [],
   "source": [
    "data = pd.read_csv('allesfit/inst.csv')\n",
    "\n",
    "reference_flux = data['flux'].median()\n",
    "\n",
    "data['flux'] = data['flux'] / reference_flux\n",
    "\n",
    "##propogating error \n",
    "data['flux_err'] = data['flux_err'] / reference_flux\n",
    "\n",
    "data.to_csv('allesfit/inst.csv',index=False)"
   ]
  },
  {
   "cell_type": "markdown",
   "metadata": {},
   "source": [
    "Congratulations!! Your inst.csv file is now ready for use!\n",
    "\n",
    "Try following this tutorial for your own target, or visit the other tutorials on how to set up for your fit.\n",
    "\n",
    "This tutorial uses lightkurve (Lightkurve Collaboration, 2018) and pandas (The Pandas Development Team, 2010)."
   ]
  }
 ],
 "metadata": {
  "kernelspec": {
   "display_name": "base",
   "language": "python",
   "name": "python3"
  },
  "language_info": {
   "codemirror_mode": {
    "name": "ipython",
    "version": 3
   },
   "file_extension": ".py",
   "mimetype": "text/x-python",
   "name": "python",
   "nbconvert_exporter": "python",
   "pygments_lexer": "ipython3",
   "version": "3.11.7"
  }
 },
 "nbformat": 4,
 "nbformat_minor": 2
}
